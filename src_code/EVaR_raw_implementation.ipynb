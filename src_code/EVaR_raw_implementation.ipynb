{
 "cells": [
  {
   "cell_type": "code",
   "execution_count": 40,
   "metadata": {
    "ExecuteTime": {
     "end_time": "2019-11-28T16:16:51.574000-05:00",
     "start_time": "2019-11-28T21:16:51.564Z"
    },
    "scrolled": true
   },
   "outputs": [],
   "source": [
    "using CSV, MosekTools, DataFrames, JuMP, Random, LinearAlgebra, MathOptInterface, Mosek"
   ]
  },
  {
   "cell_type": "markdown",
   "metadata": {},
   "source": [
    "# Loading data"
   ]
  },
  {
   "cell_type": "code",
   "execution_count": 2,
   "metadata": {
    "ExecuteTime": {
     "end_time": "2019-11-28T14:49:19.915000-05:00",
     "start_time": "2019-11-28T19:48:57.231Z"
    },
    "scrolled": true
   },
   "outputs": [
    {
     "name": "stdout",
     "output_type": "stream",
     "text": [
      "Loaded and preprocessed Housing data for regression\n"
     ]
    }
   ],
   "source": [
    "df_train = CSV.read(\"../data/3. Housing/housing_train.csv\")\n",
    "df_test = CSV.read(\"../data/3. Housing/housing_test.csv\")\n",
    "X_train = convert(Matrix, df_train[:, 1:13])\n",
    "y_train = df_train[:, 14]\n",
    "X_test = convert(Matrix, df_test[:, 1:13])\n",
    "y_test = df_test[:, 14]\n",
    "println(\"Loaded and preprocessed Housing data for regression\")"
   ]
  },
  {
   "cell_type": "code",
   "execution_count": 11,
   "metadata": {
    "ExecuteTime": {
     "end_time": "2019-11-28T14:56:38.015000-05:00",
     "start_time": "2019-11-28T19:56:37.303Z"
    }
   },
   "outputs": [
    {
     "data": {
      "text/plain": [
       "MathOptInterface.ExponentialCone()"
      ]
     },
     "execution_count": 11,
     "metadata": {},
     "output_type": "execute_result"
    }
   ],
   "source": [
    "MathOptInterface.ExponentialCone()"
   ]
  },
  {
   "cell_type": "markdown",
   "metadata": {},
   "source": [
    "# Raw EVaR Implementation"
   ]
  },
  {
   "cell_type": "code",
   "execution_count": 38,
   "metadata": {
    "ExecuteTime": {
     "end_time": "2019-11-28T15:57:17.098000-05:00",
     "start_time": "2019-11-28T20:57:17.066Z"
    }
   },
   "outputs": [
    {
     "data": {
      "text/plain": [
       "EVaR_raw_square_loss (generic function with 1 method)"
      ]
     },
     "execution_count": 38,
     "metadata": {},
     "output_type": "execute_result"
    }
   ],
   "source": [
    "function EVaR_raw_square_loss(X, y, α) # α is the training size in the stable case (1-α) is the validation size\n",
    "    n,d = size(X)\n",
    "    model_evar = Model(with_optimizer(Mosek.Optimizer))\n",
    "    @variable(model_evar, s >= 0)\n",
    "    @variable(model_evar, u[1:n] >= 0)\n",
    "    @variable(model_evar, Z[1:n])\n",
    "    @variable(model_evar, β[1:d])\n",
    "    @variable(model_evar, t)\n",
    "    \n",
    "    @NLconstraint(\n",
    "        model_evar,\n",
    "        [i=1:n],\n",
    "        Z[i] == (sum(β[j]*X[i,j] for j=1:d) - y[i])^2\n",
    "    )\n",
    "    @constraint(\n",
    "        model_evar,\n",
    "        sum(u[i] for i=1:n) <= n*α\n",
    "    )\n",
    "    @constraint(\n",
    "        model_evar,\n",
    "        [i=1:n],\n",
    "        [u[i], 1, (Z[i]-t)/s] in MathOptInterface.ExponentialCone()\n",
    "    )\n",
    "    \n",
    "    @objective(\n",
    "        model_evar, \n",
    "        Min, \n",
    "        t\n",
    "    )\n",
    "    optimize!(model_evar)\n",
    "    β_optimal = JuMP.value.(β)\n",
    "    return β_optimal\n",
    "end"
   ]
  },
  {
   "cell_type": "code",
   "execution_count": 39,
   "metadata": {
    "ExecuteTime": {
     "end_time": "2019-11-28T15:57:17.659000-05:00",
     "start_time": "2019-11-28T20:57:17.413Z"
    },
    "scrolled": true
   },
   "outputs": [
    {
     "ename": "ErrorException",
     "evalue": "Cannot divide affine expression by a variable",
     "output_type": "error",
     "traceback": [
      "Cannot divide affine expression by a variable",
      "",
      "Stacktrace:",
      " [1] error(::String) at ./error.jl:33",
      " [2] /(::GenericAffExpr{Float64,VariableRef}, ::VariableRef) at /Users/hamzatazi/.julia/packages/JuMP/MsUSY/src/operators.jl:157",
      " [3] macro expansion at /Users/hamzatazi/.julia/packages/JuMP/MsUSY/src/macros.jl:390 [inlined]",
      " [4] EVaR_raw_square_loss(::Array{Float64,2}, ::Array{Float64,1}, ::Float64) at ./In[38]:19",
      " [5] top-level scope at In[39]:1"
     ]
    }
   ],
   "source": [
    "β_optimal = EVaR_raw_square_loss(X_train, y_train, 0.8)"
   ]
  },
  {
   "cell_type": "code",
   "execution_count": null,
   "metadata": {},
   "outputs": [],
   "source": []
  }
 ],
 "metadata": {
  "kernelspec": {
   "display_name": "Julia 1.3.0",
   "language": "julia",
   "name": "julia-1.3"
  },
  "language_info": {
   "file_extension": ".jl",
   "mimetype": "application/julia",
   "name": "julia",
   "version": "1.3.0"
  },
  "latex_envs": {
   "LaTeX_envs_menu_present": true,
   "autoclose": false,
   "autocomplete": true,
   "bibliofile": "biblio.bib",
   "cite_by": "apalike",
   "current_citInitial": 1,
   "eqLabelWithNumbers": true,
   "eqNumInitial": 1,
   "hotkeys": {
    "equation": "Ctrl-E",
    "itemize": "Ctrl-I"
   },
   "labels_anchors": false,
   "latex_user_defs": false,
   "report_style_numbering": false,
   "user_envs_cfg": false
  },
  "toc": {
   "base_numbering": 1,
   "nav_menu": {},
   "number_sections": true,
   "sideBar": true,
   "skip_h1_title": false,
   "title_cell": "Table of Contents",
   "title_sidebar": "Contents",
   "toc_cell": false,
   "toc_position": {
    "height": "calc(100% - 180px)",
    "left": "10px",
    "top": "150px",
    "width": "239.333px"
   },
   "toc_section_display": true,
   "toc_window_display": true
  }
 },
 "nbformat": 4,
 "nbformat_minor": 2
}
