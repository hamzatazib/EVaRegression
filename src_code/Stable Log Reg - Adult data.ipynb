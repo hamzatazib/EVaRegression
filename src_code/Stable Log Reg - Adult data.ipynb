{
 "cells": [
  {
   "cell_type": "code",
   "execution_count": 66,
   "metadata": {
    "ExecuteTime": {
     "end_time": "2019-12-07T21:21:29.199000-05:00",
     "start_time": "2019-12-08T02:21:29.056Z"
    }
   },
   "outputs": [],
   "source": [
    "using JuMP, Gurobi, CSV, LinearAlgebra, DataFrames, Random, Distributions, Statistics,MLBase, ROCAnalysis"
   ]
  },
  {
   "cell_type": "code",
   "execution_count": 77,
   "metadata": {
    "ExecuteTime": {
     "end_time": "2019-12-07T21:25:35.477000-05:00",
     "start_time": "2019-12-08T02:25:35.152Z"
    }
   },
   "outputs": [
    {
     "name": "stdout",
     "output_type": "stream",
     "text": [
      "Academic license - for non-commercial use only\n"
     ]
    },
    {
     "data": {
      "text/plain": [
       "Gurobi.Env(Ptr{Nothing} @0x00007fd793153c00)"
      ]
     },
     "execution_count": 77,
     "metadata": {},
     "output_type": "execute_result"
    }
   ],
   "source": [
    "gurobi_env = Gurobi.Env()"
   ]
  },
  {
   "cell_type": "markdown",
   "metadata": {},
   "source": [
    "# Loading Data"
   ]
  },
  {
   "cell_type": "code",
   "execution_count": 87,
   "metadata": {
    "ExecuteTime": {
     "end_time": "2019-12-07T21:27:19.268000-05:00",
     "start_time": "2019-12-08T02:27:18.581Z"
    },
    "scrolled": true
   },
   "outputs": [
    {
     "name": "stdout",
     "output_type": "stream",
     "text": [
      "Got the data for X dataset.\n"
     ]
    }
   ],
   "source": [
    "train_data = CSV.read(\"data/adult_train.csv\")\n",
    "X_train = convert(Matrix, train_data[:, 1:91])\n",
    "y_train = train_data[:, 92]\n",
    "test_data = CSV.read(\"data/adult_test.csv\")\n",
    "X_test = convert(Matrix, test_data[:, 1:91])\n",
    "y_test = test_data[:, 92]\n",
    "println(\"Got the data for X dataset.\")"
   ]
  },
  {
   "cell_type": "markdown",
   "metadata": {},
   "source": [
    "# Utils Functions"
   ]
  },
  {
   "cell_type": "code",
   "execution_count": 88,
   "metadata": {
    "ExecuteTime": {
     "end_time": "2019-12-07T21:27:19.604000-05:00",
     "start_time": "2019-12-08T02:27:19.596Z"
    }
   },
   "outputs": [
    {
     "data": {
      "text/plain": [
       "compute_∇f (generic function with 1 method)"
      ]
     },
     "execution_count": 88,
     "metadata": {},
     "output_type": "execute_result"
    }
   ],
   "source": [
    "function compute_∇f(w_k, z_k, y, X, λ)\n",
    "    n, p = size(X)\n",
    "    ∇f_k = sum(-z_k[i]/(1+exp(y[i]*dot(w_k,X[i,:])))*y[i].*X[i,:] for i in 1:n) + 2*λ.*w_k\n",
    "    return ∇f_k\n",
    "end"
   ]
  },
  {
   "cell_type": "code",
   "execution_count": 89,
   "metadata": {
    "ExecuteTime": {
     "end_time": "2019-12-07T21:27:19.743000-05:00",
     "start_time": "2019-12-08T02:27:19.729Z"
    },
    "scrolled": true
   },
   "outputs": [
    {
     "data": {
      "text/plain": [
       "solve_inner_max_problem (generic function with 1 method)"
      ]
     },
     "execution_count": 89,
     "metadata": {},
     "output_type": "execute_result"
    }
   ],
   "source": [
    "function solve_inner_max_problem(w_k, y, X, K, λ)\n",
    "    n, p = size(X)\n",
    "    model_inner_max = Model(solver=GurobiSolver(OutputFlag=0,gurobi_env))\n",
    "    @variable(model_inner_max, z[1:n] >= 0)\n",
    "    @constraint(model_inner_max, [i=1:n], 1 >= z[i])\n",
    "    @constraint(model_inner_max, sum(z) <= K)\n",
    "    @objective(\n",
    "        model_inner_max,\n",
    "        Max,\n",
    "        sum(z[i]*log(1+exp(-y[i]*dot(X[i,:], w_k))) for i=1:n)\n",
    "    )\n",
    "    solve(model_inner_max)\n",
    "    optimal_z_k = getvalue(z)\n",
    "    optimal_f_k = getobjectivevalue(model_inner_max) + λ*dot(w_k,w_k)\n",
    "    return optimal_z_k, optimal_f_k\n",
    "end"
   ]
  },
  {
   "cell_type": "markdown",
   "metadata": {},
   "source": [
    "# Cutting Planes Implementation"
   ]
  },
  {
   "cell_type": "code",
   "execution_count": 110,
   "metadata": {
    "ExecuteTime": {
     "end_time": "2019-12-07T21:38:45.685000-05:00",
     "start_time": "2019-12-08T02:38:45.632Z"
    },
    "scrolled": false
   },
   "outputs": [
    {
     "data": {
      "text/plain": [
       "stable_LR_cutting_planes (generic function with 1 method)"
      ]
     },
     "execution_count": 110,
     "metadata": {},
     "output_type": "execute_result"
    }
   ],
   "source": [
    "function stable_LR_cutting_planes(y, X, ε, K,λ)\n",
    "    errors = []\n",
    "    n, p = size(X)\n",
    "    # Initialization values and step 0\n",
    "    w_0 = [0 for i in 1:p]\n",
    "    #w_0 = [rand(Uniform(-0.5, 0.5)) for i in 1:p]\n",
    "    z_0, f_0 = solve_inner_max_problem(w_0, y, X, K, λ)\n",
    "    ∇f_0 = compute_∇f(w_0, z_0, y, X, λ)\n",
    "    \n",
    "    # Outer minimization problem\n",
    "    outer_min_model = Model(solver=GurobiSolver(OutputFlag=0, gurobi_env))\n",
    "    @variable(outer_min_model, t >= 0)\n",
    "    @variable(outer_min_model, w[1:p])\n",
    "    #@constraint(outer_min_model, [j=1:p], -1 <= w[j] <= 1)\n",
    "    @constraint(outer_min_model, t >= f_0 + dot(∇f_0, w)-dot(∇f_0, w_0))\n",
    "    @constraint(outer_min_model, [j=1:p], 1 >= w[j])\n",
    "    @constraint(outer_min_model, [j=1:p], w[j] >= -1)\n",
    "    @objective(outer_min_model, Min, t)\n",
    "    k = 1 # Number of constraints in the final problem\n",
    "    solve(outer_min_model)\n",
    "    \n",
    "    # New steps k\n",
    "    t_k = getvalue(t)\n",
    "    w_k = getvalue(w)\n",
    "    z_k, f_k = solve_inner_max_problem(w_k, y, X, K, λ)\n",
    "    \n",
    "    ∇f_k = compute_∇f(w_k, z_k, y, X, λ)\n",
    "    while abs(f_k - t_k) >= ε # error\n",
    "        push!(errors, f_k - t_k)\n",
    "        @constraint(outer_min_model,t >= f_k + dot(∇f_k, w)-dot(∇f_k, w_k))\n",
    "        k += 1\n",
    "        solve(outer_min_model)\n",
    "        # Updating all the values\n",
    "        t_k = getvalue(t)\n",
    "        w_k = getvalue(w)\n",
    "        z_k, f_k = solve_inner_max_problem(w_k, y, X, K, λ)\n",
    "        \n",
    "        ∇f_k = compute_∇f(w_k, z_k, y, X, λ)\n",
    "        if k%100 == 0\n",
    "            println(\"Number of constraints: \", k, \"\\t Error = \", abs(t_k - f_k))\n",
    "        end\n",
    "        if k > 20000\n",
    "            break\n",
    "        end\n",
    "    end\n",
    "    push!(errors, f_k - t_k)\n",
    "    return t_k, f_k, w_k, z_k, errors\n",
    "end"
   ]
  },
  {
   "cell_type": "code",
   "execution_count": 111,
   "metadata": {
    "ExecuteTime": {
     "end_time": "2019-12-07T21:38:46.013000-05:00",
     "start_time": "2019-12-08T02:38:45.982Z"
    }
   },
   "outputs": [
    {
     "data": {
      "text/plain": [
       "scores (generic function with 1 method)"
      ]
     },
     "execution_count": 111,
     "metadata": {},
     "output_type": "execute_result"
    }
   ],
   "source": [
    "function scores(preds, gt)\n",
    "    acc = sum(preds .== gt)/size(preds)[1]\n",
    "    TPR = dot((preds.==1),gt.==1)/(dot((preds.==1),gt.==1) + dot((preds.==-1),gt.==1))\n",
    "    FPR = dot((preds.==1),gt.==-1)/ (dot((preds.==1),gt.==-1) + dot((preds.==-1),gt.==-1))\n",
    "    return acc, TPR, FPR\n",
    "end"
   ]
  },
  {
   "cell_type": "code",
   "execution_count": 112,
   "metadata": {
    "ExecuteTime": {
     "end_time": "2019-12-07T22:15:29.838000-05:00",
     "start_time": "2019-12-08T02:38:46.308Z"
    },
    "scrolled": true
   },
   "outputs": [
    {
     "name": "stdout",
     "output_type": "stream",
     "text": [
      "Number of constraints: 100\t Error = 30506.699243119783\n",
      "Number of constraints: 200\t Error = 18700.28616590511\n",
      "Number of constraints: 300\t Error = 8239.290518416337\n",
      "Number of constraints: 400\t Error = 5505.1124951493\n",
      "Number of constraints: 500\t Error = 3418.7603904502703\n",
      "Number of constraints: 600\t Error = 2077.710359108709\n",
      "Number of constraints: 700\t Error = 1543.1784504268999\n",
      "Number of constraints: 800\t Error = 858.5312766481948\n",
      "Number of constraints: 900\t Error = 642.4722961490752\n",
      "Number of constraints: 1000\t Error = 540.9061045182098\n",
      "Number of constraints: 1100\t Error = 361.8555419157983\n",
      "Number of constraints: 1200\t Error = 285.9702688003472\n",
      "Number of constraints: 1300\t Error = 186.76249553490197\n",
      "Number of constraints: 1400\t Error = 209.90593917820115\n",
      "Number of constraints: 1500\t Error = 137.2595974827782\n",
      "Number of constraints: 1600\t Error = 143.32307084100466\n",
      "Number of constraints: 1700\t Error = 96.73688145849519\n",
      "Number of constraints: 1800\t Error = 85.39791169868658\n",
      "Number of constraints: 1900\t Error = 57.31140978386611\n",
      "Number of constraints: 2000\t Error = 53.63926871278818\n",
      "Number of constraints: 2100\t Error = 42.16806045408339\n",
      "Number of constraints: 2200\t Error = 37.226277563037\n",
      "Number of constraints: 2300\t Error = 30.245222861911316\n",
      "Number of constraints: 2400\t Error = 27.534143960479923\n",
      "Number of constraints: 2500\t Error = 20.31718664377513\n",
      "Number of constraints: 2600\t Error = 21.156804185011424\n",
      "Number of constraints: 2700\t Error = 17.82838446628375\n",
      "Number of constraints: 2800\t Error = 15.635947895358186\n",
      "Number of constraints: 2900\t Error = 12.8486545403739\n",
      "Number of constraints: 3000\t Error = 11.192801124332618\n",
      "Number of constraints: 3100\t Error = 9.28554943067138\n",
      "Number of constraints: 3200\t Error = 8.699420103253942\n",
      "Number of constraints: 3300\t Error = 7.87000239020017\n",
      "Number of constraints: 3400\t Error = 6.384889603623378\n",
      "Number of constraints: 3500\t Error = 5.360680398065597\n",
      "Number of constraints: 3600\t Error = 5.155028131573999\n",
      "Number of constraints: 3700\t Error = 4.042261887714631\n",
      "Number of constraints: 3800\t Error = 3.390577631258566\n",
      "Number of constraints: 3900\t Error = 3.277522660089744\n",
      "Number of constraints: 4000\t Error = 2.629546956412014\n",
      "Number of constraints: 4100\t Error = 2.124613129257341\n",
      "Number of constraints: 4200\t Error = 1.9826867641259014\n",
      "Number of constraints: 4300\t Error = 1.652550588860322\n",
      "Number of constraints: 4400\t Error = 1.3928538714790193\n",
      "Number of constraints: 4500\t Error = 1.3004282510100893\n",
      "Number of constraints: 4600\t Error = 1.284933503557113\n",
      "Number of constraints: 4700\t Error = 0.9821051134458685\n",
      "Number of constraints: 4800\t Error = 0.8337946851715969\n",
      "Number of constraints: 4900\t Error = 0.826520435315615\n",
      "Number of constraints: 5000\t Error = 0.7079412421135203\n",
      "Number of constraints: 5100\t Error = 0.633723122158699\n",
      "Number of constraints: 5200\t Error = 0.536621840305088\n",
      "Number of constraints: 5300\t Error = 0.4313073411703954\n",
      "Number of constraints: 5400\t Error = 0.37880008200409065\n",
      "Number of constraints: 5500\t Error = 0.36144690232686116\n",
      "Number of constraints: 5600\t Error = 0.29056788620619045\n",
      "Number of constraints: 5700\t Error = 0.3211932130252535\n",
      "Number of constraints: 5800\t Error = 0.24461881465322222\n",
      "Number of constraints: 5900\t Error = 0.20088036546076182\n",
      "Number of constraints: 6000\t Error = 0.16304608777318208\n",
      "Number of constraints: 6100\t Error = 0.16097327973875508\n",
      "Number of constraints: 6200\t Error = 0.13120193922077306\n",
      "Number of constraints: 6300\t Error = 0.1172583324732841\n",
      "Number of constraints: 6400\t Error = 0.11628086040764174\n",
      "Number of constraints: 6500\t Error = 0.08897694217557728\n",
      "Number of constraints: 6600\t Error = 0.08336575299290416\n",
      "Number of constraints: 6700\t Error = 0.05663615393496002\n",
      "Number of constraints: 6800\t Error = 0.05832174838906212\n",
      "Number of constraints: 6900\t Error = 0.03960349861517898\n",
      "Number of constraints: 7000\t Error = 0.03413047124922741\n",
      "Number of constraints: 7100\t Error = 0.02729745327087585\n",
      "Number of constraints: 7200\t Error = 0.020690958577688434\n",
      "Number of constraints: 7300\t Error = 0.0193020209298993\n",
      "Number of constraints: 7400\t Error = 0.016839008461829508\n",
      "########## 50% data ##########\n",
      "########## Train Scores ##########\n",
      "(0.8311169804367188, 0.6922586404795307, 0.12483818770226537)\n",
      "########## Test Scores ##########\n",
      "(0.837847798046803, 0.6578263130525221, 0.10647366304784882)\n"
     ]
    }
   ],
   "source": [
    "# 50% train data\n",
    "n,p=size(X_train)\n",
    "t_opt, f_opt, w_opt, z_opt, errors = stable_LR_cutting_planes(y_train, X_train, 0.01, Int(round(n/2)),.1)\n",
    "\n",
    "preds = (X_train*w_opt)\n",
    "train_sc = scores(sign.(preds), y_train)\n",
    "preds = (X_test*w_opt)\n",
    "test_sc = scores(sign.(preds), y_test)\n",
    "println(\"########## 50% data ##########\")\n",
    "println(\"########## Train Scores ##########\")\n",
    "println(train_sc)\n",
    "println(\"########## Test Scores ##########\")\n",
    "println(test_sc)"
   ]
  },
  {
   "cell_type": "code",
   "execution_count": 114,
   "metadata": {
    "ExecuteTime": {
     "end_time": "2019-12-07T23:00:43.557000-05:00",
     "start_time": "2019-12-08T03:21:48.137Z"
    }
   },
   "outputs": [
    {
     "name": "stdout",
     "output_type": "stream",
     "text": [
      "Number of constraints: 100\t Error = 38838.91543297889\n",
      "Number of constraints: 200\t Error = 20570.64376068709\n",
      "Number of constraints: 300\t Error = 8887.016796861639\n",
      "Number of constraints: 400\t Error = 5838.261684543708\n",
      "Number of constraints: 500\t Error = 3492.5897934638324\n",
      "Number of constraints: 600\t Error = 2641.833894532958\n",
      "Number of constraints: 700\t Error = 1704.848026620688\n",
      "Number of constraints: 800\t Error = 1067.3938910891302\n",
      "Number of constraints: 900\t Error = 931.4926872739761\n",
      "Number of constraints: 1000\t Error = 577.687351961782\n",
      "Number of constraints: 1100\t Error = 483.4782063941675\n",
      "Number of constraints: 1200\t Error = 327.25771003082264\n",
      "Number of constraints: 1300\t Error = 297.3077182740708\n",
      "Number of constraints: 1400\t Error = 205.1298003876418\n",
      "Number of constraints: 1500\t Error = 147.8041734866656\n",
      "Number of constraints: 1600\t Error = 131.9617796649145\n",
      "Number of constraints: 1700\t Error = 106.02508573947307\n",
      "Number of constraints: 1800\t Error = 92.91417073259618\n",
      "Number of constraints: 1900\t Error = 80.56995769442256\n",
      "Number of constraints: 2000\t Error = 62.60743610906502\n",
      "Number of constraints: 2100\t Error = 48.88883638283005\n",
      "Number of constraints: 2200\t Error = 42.89052178379825\n",
      "Number of constraints: 2300\t Error = 39.64538487968457\n",
      "Number of constraints: 2400\t Error = 30.53125333641583\n",
      "Number of constraints: 2500\t Error = 27.382203655477497\n",
      "Number of constraints: 2600\t Error = 21.94867757521388\n",
      "Number of constraints: 2700\t Error = 18.61983100710131\n",
      "Number of constraints: 2800\t Error = 17.146455234449604\n",
      "Number of constraints: 2900\t Error = 16.46312376012429\n",
      "Number of constraints: 3000\t Error = 14.179867165037649\n",
      "Number of constraints: 3100\t Error = 10.561258343026566\n",
      "Number of constraints: 3200\t Error = 9.242108588094197\n",
      "Number of constraints: 3300\t Error = 9.371797876077835\n",
      "Number of constraints: 3400\t Error = 7.594631945321453\n",
      "Number of constraints: 3500\t Error = 5.159008004289717\n",
      "Number of constraints: 3600\t Error = 5.338126661610659\n",
      "Number of constraints: 3700\t Error = 3.8529926451701613\n",
      "Number of constraints: 3800\t Error = 3.947574500782139\n",
      "Number of constraints: 3900\t Error = 3.7456595809399005\n",
      "Number of constraints: 4000\t Error = 2.9604283586741076\n",
      "Number of constraints: 4100\t Error = 2.6173610344703775\n",
      "Number of constraints: 4200\t Error = 2.5216248712404195\n",
      "Number of constraints: 4300\t Error = 2.2557184323814\n",
      "Number of constraints: 4400\t Error = 1.725479577879014\n",
      "Number of constraints: 4500\t Error = 1.6582760063392925\n",
      "Number of constraints: 4600\t Error = 1.3317273601678608\n",
      "Number of constraints: 4700\t Error = 1.3509681499490398\n",
      "Number of constraints: 4800\t Error = 1.2070169150974834\n",
      "Number of constraints: 4900\t Error = 0.8275762753182789\n",
      "Number of constraints: 5000\t Error = 0.7816599953730474\n",
      "Number of constraints: 5100\t Error = 0.8161390298009792\n",
      "Number of constraints: 5200\t Error = 0.5694923154187563\n",
      "Number of constraints: 5300\t Error = 0.5735298834988498\n",
      "Number of constraints: 5400\t Error = 0.4559523564821575\n",
      "Number of constraints: 5500\t Error = 0.33994804573012516\n",
      "Number of constraints: 5600\t Error = 0.3509717482083943\n",
      "Number of constraints: 5700\t Error = 0.3171352581703104\n",
      "Number of constraints: 5800\t Error = 0.265867980029725\n",
      "Number of constraints: 5900\t Error = 0.2526026416562672\n",
      "Number of constraints: 6000\t Error = 0.1968468621453212\n",
      "Number of constraints: 6100\t Error = 0.15526295643940102\n",
      "Number of constraints: 6200\t Error = 0.1448750188228587\n",
      "Number of constraints: 6300\t Error = 0.1424177589306055\n",
      "Number of constraints: 6400\t Error = 0.1117572740495234\n",
      "Number of constraints: 6500\t Error = 0.12217396905361966\n",
      "Number of constraints: 6600\t Error = 0.08701303229645418\n",
      "Number of constraints: 6700\t Error = 0.08098162766509631\n",
      "Number of constraints: 6800\t Error = 0.06692985082918312\n",
      "Number of constraints: 6900\t Error = 0.07442356659885263\n",
      "Number of constraints: 7000\t Error = 0.07014796386283706\n",
      "Number of constraints: 7100\t Error = 0.05992207082999812\n",
      "Number of constraints: 7200\t Error = 0.04525852852566459\n",
      "Number of constraints: 7300\t Error = 0.03630101113230921\n",
      "Number of constraints: 7400\t Error = 0.0309670915503375\n",
      "Number of constraints: 7500\t Error = 0.023814215450329357\n",
      "Number of constraints: 7600\t Error = 0.023331893011345528\n",
      "Number of constraints: 7700\t Error = 0.016666025661834283\n",
      "Number of constraints: 7800\t Error = 0.014851055888357223\n",
      "Number of constraints: 7900\t Error = 0.012376800492347684\n",
      "########## 60% data ##########\n",
      "########## Train Scores ##########\n",
      "(0.8060870366389239, 0.8051268970794542, 0.1936084142394822)\n",
      "########## Test Scores ##########\n",
      "(0.8337325717093544, 0.702808112324493, 0.1257740249296341)\n"
     ]
    }
   ],
   "source": [
    "# 60% train data\n",
    "n,p=size(X_train)\n",
    "t_opt, f_opt, w_opt, z_opt, errors = stable_LR_cutting_planes(y_train, X_train, 0.01, Int(round(.6*n)),.1)\n",
    "\n",
    "preds = (X_train*w_opt)\n",
    "train_sc = scores(sign.(preds), y_train)\n",
    "preds = (X_test*w_opt)\n",
    "test_sc = scores(sign.(preds), y_test)\n",
    "println(\"########## 60% data ##########\")\n",
    "println(\"########## Train Scores ##########\")\n",
    "println(train_sc)\n",
    "println(\"########## Test Scores ##########\")\n",
    "println(test_sc)"
   ]
  },
  {
   "cell_type": "code",
   "execution_count": 115,
   "metadata": {
    "ExecuteTime": {
     "end_time": "2019-12-07T23:50:35.140000-05:00",
     "start_time": "2019-12-08T03:22:17.179Z"
    }
   },
   "outputs": [
    {
     "name": "stdout",
     "output_type": "stream",
     "text": [
      "Number of constraints: 100\t Error = 36375.850374060756\n",
      "Number of constraints: 200\t Error = 20087.024592071488\n",
      "Number of constraints: 300\t Error = 12760.075070488918\n",
      "Number of constraints: 400\t Error = 6671.2952592634665\n",
      "Number of constraints: 500\t Error = 5261.616625764473\n",
      "Number of constraints: 600\t Error = 2723.497381427529\n",
      "Number of constraints: 700\t Error = 2141.6818462299325\n",
      "Number of constraints: 800\t Error = 1627.3196252931793\n",
      "Number of constraints: 900\t Error = 1182.562500368671\n",
      "Number of constraints: 1000\t Error = 835.8368927293632\n",
      "Number of constraints: 1100\t Error = 512.7072320222123\n",
      "Number of constraints: 1200\t Error = 485.37677524134597\n",
      "Number of constraints: 1300\t Error = 380.64139382197754\n",
      "Number of constraints: 1400\t Error = 303.0271580628905\n",
      "Number of constraints: 1500\t Error = 287.301817135949\n",
      "Number of constraints: 1600\t Error = 202.03381878633627\n",
      "Number of constraints: 1700\t Error = 153.3105115278231\n",
      "Number of constraints: 1800\t Error = 130.91683969494625\n",
      "Number of constraints: 1900\t Error = 117.83063473655784\n",
      "Number of constraints: 2000\t Error = 113.68150667219743\n",
      "Number of constraints: 2100\t Error = 82.56816767919918\n",
      "Number of constraints: 2200\t Error = 58.63292942755834\n",
      "Number of constraints: 2300\t Error = 55.82930358723024\n",
      "Number of constraints: 2400\t Error = 51.04634649918626\n",
      "Number of constraints: 2500\t Error = 41.51101637083411\n",
      "Number of constraints: 2600\t Error = 32.07574044785906\n",
      "Number of constraints: 2700\t Error = 29.299497397887535\n",
      "Number of constraints: 2800\t Error = 25.419411415201466\n",
      "Number of constraints: 2900\t Error = 24.085464171999774\n",
      "Number of constraints: 3000\t Error = 20.154138800256987\n",
      "Number of constraints: 3100\t Error = 17.72635194209397\n",
      "Number of constraints: 3200\t Error = 16.155078454712566\n",
      "Number of constraints: 3300\t Error = 13.44481299932886\n",
      "Number of constraints: 3400\t Error = 12.044279025876676\n",
      "Number of constraints: 3500\t Error = 9.591880957364992\n",
      "Number of constraints: 3600\t Error = 8.90661271758654\n",
      "Number of constraints: 3700\t Error = 6.68343240172544\n",
      "Number of constraints: 3800\t Error = 6.823520197329344\n",
      "Number of constraints: 3900\t Error = 5.748340154621474\n",
      "Number of constraints: 4000\t Error = 4.233291339522111\n",
      "Number of constraints: 4100\t Error = 3.7955484124850045\n",
      "Number of constraints: 4200\t Error = 3.523499161858126\n",
      "Number of constraints: 4300\t Error = 3.389777542117372\n",
      "Number of constraints: 4400\t Error = 3.0654724215783062\n",
      "Number of constraints: 4500\t Error = 2.584291684352138\n",
      "Number of constraints: 4600\t Error = 1.948820049439746\n",
      "Number of constraints: 4700\t Error = 1.8178647943805117\n",
      "Number of constraints: 4800\t Error = 1.6236904941088142\n",
      "Number of constraints: 4900\t Error = 1.3277862571194419\n",
      "Number of constraints: 5000\t Error = 1.1435882892656082\n",
      "Number of constraints: 5100\t Error = 1.3359619358034251\n",
      "Number of constraints: 5200\t Error = 0.8912692438316299\n",
      "Number of constraints: 5300\t Error = 0.8616674540589884\n",
      "Number of constraints: 5400\t Error = 0.8580026383424411\n",
      "Number of constraints: 5500\t Error = 0.6172040170949913\n",
      "Number of constraints: 5600\t Error = 0.5426088375188556\n",
      "Number of constraints: 5700\t Error = 0.5198669534020155\n",
      "Number of constraints: 5800\t Error = 0.3844118577944755\n",
      "Number of constraints: 5900\t Error = 0.4207855116128485\n",
      "Number of constraints: 6000\t Error = 0.36129399068704515\n",
      "Number of constraints: 6100\t Error = 0.34001047543461027\n",
      "Number of constraints: 6200\t Error = 0.27199356704659294\n",
      "Number of constraints: 6300\t Error = 0.20797051195040694\n",
      "Number of constraints: 6400\t Error = 0.21063431331822358\n",
      "Number of constraints: 6500\t Error = 0.16317332552353037\n",
      "Number of constraints: 6600\t Error = 0.12014444486339926\n",
      "Number of constraints: 6700\t Error = 0.13393902587449702\n",
      "Number of constraints: 6800\t Error = 0.08797554665943608\n",
      "Number of constraints: 6900\t Error = 0.08031684752677393\n",
      "Number of constraints: 7000\t Error = 0.06993494923881372\n",
      "Number of constraints: 7100\t Error = 0.0646254917846818\n",
      "Number of constraints: 7200\t Error = 0.05463414698897395\n",
      "Number of constraints: 7300\t Error = 0.04169046891729522\n",
      "Number of constraints: 7400\t Error = 0.03589764056960121\n",
      "Number of constraints: 7500\t Error = 0.025903775736878742\n",
      "Number of constraints: 7600\t Error = 0.024635494924950763\n",
      "Number of constraints: 7700\t Error = 0.019857155035424512\n",
      "Number of constraints: 7800\t Error = 0.016914300802454818\n",
      "Number of constraints: 7900\t Error = 0.015401609784021275\n",
      "Number of constraints: 8000\t Error = 0.011861951474202215\n",
      "########## 70% data ##########\n",
      "########## Train Scores ##########\n",
      "(0.758883326679156, 0.901543170513965, 0.2863673139158576)\n",
      "########## Test Scores ##########\n",
      "(0.8014249738959524, 0.8156526261050442, 0.20297547245677522)\n"
     ]
    }
   ],
   "source": [
    "# 70% train data\n",
    "n,p=size(X_train)\n",
    "t_opt, f_opt, w_opt, z_opt, errors = stable_LR_cutting_planes(y_train, X_train, 0.01, Int(round(.7*n)),.1)\n",
    "\n",
    "preds = (X_train*w_opt)\n",
    "train_sc = scores(sign.(preds), y_train)\n",
    "preds = (X_test*w_opt)\n",
    "test_sc = scores(sign.(preds), y_test)\n",
    "println(\"########## 70% data ##########\")\n",
    "println(\"########## Train Scores ##########\")\n",
    "println(train_sc)\n",
    "println(\"########## Test Scores ##########\")\n",
    "println(test_sc)"
   ]
  }
 ],
 "metadata": {
  "kernelspec": {
   "display_name": "Julia 1.2.0",
   "language": "julia",
   "name": "julia-1.2"
  },
  "language_info": {
   "file_extension": ".jl",
   "mimetype": "application/julia",
   "name": "julia",
   "version": "1.2.0"
  },
  "latex_envs": {
   "LaTeX_envs_menu_present": true,
   "autoclose": false,
   "autocomplete": true,
   "bibliofile": "biblio.bib",
   "cite_by": "apalike",
   "current_citInitial": 1,
   "eqLabelWithNumbers": true,
   "eqNumInitial": 1,
   "hotkeys": {
    "equation": "Ctrl-E",
    "itemize": "Ctrl-I"
   },
   "labels_anchors": false,
   "latex_user_defs": false,
   "report_style_numbering": false,
   "user_envs_cfg": false
  },
  "toc": {
   "base_numbering": 1,
   "nav_menu": {},
   "number_sections": true,
   "sideBar": true,
   "skip_h1_title": false,
   "title_cell": "Table of Contents",
   "title_sidebar": "Contents",
   "toc_cell": false,
   "toc_position": {},
   "toc_section_display": true,
   "toc_window_display": false
  }
 },
 "nbformat": 4,
 "nbformat_minor": 2
}
